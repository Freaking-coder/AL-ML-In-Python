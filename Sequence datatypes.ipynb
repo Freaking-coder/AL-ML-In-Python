{
 "cells": [
  {
   "cell_type": "raw",
   "id": "d26b7cf7-c7d2-413a-8104-d00a76d20774",
   "metadata": {},
   "source": [
    "Sequence Datatypes\n",
    "Sequence Datatypes is of sequence of characters with many datatypes in it.\n",
    "String,List,Tuple,Dictionary,Set,range,array\n",
    "\n",
    "String-Set of Sequence Characters\n",
    "List-Built-in data Structure to store ordered elements.It is mutable and within the square brackets.\n",
    "     The index starts with 0.\n",
    "     The values inside are comma separated.Can store duplicated value.\n",
    "Tuple-It is unmutable and with the open brackets.Tuple packing is without the open braces.\n"
   ]
  },
  {
   "cell_type": "code",
   "execution_count": 3,
   "id": "ff1fe7e5-be19-4d6a-806f-465d586662a0",
   "metadata": {},
   "outputs": [
    {
     "name": "stdout",
     "output_type": "stream",
     "text": [
      "Learning\n"
     ]
    }
   ],
   "source": [
    "StrSample='Learning'\n",
    "print(StrSample)"
   ]
  },
  {
   "cell_type": "code",
   "execution_count": 9,
   "id": "163b87bf-7cd3-440e-bbb2-587d3686eb75",
   "metadata": {},
   "outputs": [
    {
     "name": "stdout",
     "output_type": "stream",
     "text": [
      "[1, 2, 3, 7]\n"
     ]
    }
   ],
   "source": [
    "listsample=[1,2,3,7]\n",
    "print(listsample)"
   ]
  },
  {
   "cell_type": "code",
   "execution_count": 13,
   "id": "e125d7e8-4dc9-4004-a53b-1056259b6dd3",
   "metadata": {},
   "outputs": [
    {
     "name": "stdout",
     "output_type": "stream",
     "text": [
      "[1, 'first', 0.4, True]\n"
     ]
    }
   ],
   "source": [
    "listsam=[1,'first',0.4,True]\n",
    "print(listsam)"
   ]
  },
  {
   "cell_type": "code",
   "execution_count": 19,
   "id": "5a2ddd93-da63-450c-b96c-22bfea6e56ed",
   "metadata": {},
   "outputs": [
    {
     "name": "stdout",
     "output_type": "stream",
     "text": [
      "(1, 2, 3, 'third')\n"
     ]
    }
   ],
   "source": [
    "tuplesam=(1,2,3,'third')\n",
    "print(tuplesam)"
   ]
  },
  {
   "cell_type": "code",
   "execution_count": 21,
   "id": "5099a7cd-781e-4aad-9191-d9db6bd598b3",
   "metadata": {},
   "outputs": [
    {
     "name": "stdout",
     "output_type": "stream",
     "text": [
      "(1, 2, 3, 'hello')\n"
     ]
    }
   ],
   "source": [
    "tuplepack=1,2,3,'hello'\n",
    "print(tuplepack)"
   ]
  },
  {
   "cell_type": "code",
   "execution_count": 23,
   "id": "6c8b1e32-5bda-427e-afee-38e09350c4a6",
   "metadata": {},
   "outputs": [
    {
     "name": "stdout",
     "output_type": "stream",
     "text": [
      "{1: 'first', 2: 'second', 3: 3, 4: 'quarter'}\n"
     ]
    }
   ],
   "source": [
    "dictsample={1:'first',2:'second',3:3,4:'quarter'}\n",
    "print(dictsample)"
   ]
  },
  {
   "cell_type": "code",
   "execution_count": 27,
   "id": "b6b86daf-e83c-4cbc-a6cc-e8df3f34f7c9",
   "metadata": {},
   "outputs": [
    {
     "data": {
      "text/plain": [
       "{1: 'first', 2: 'second'}"
      ]
     },
     "execution_count": 27,
     "metadata": {},
     "output_type": "execute_result"
    }
   ],
   "source": [
    "dictlist=dict([(1,'first'),(2,'second')])\n",
    "dictlist"
   ]
  },
  {
   "cell_type": "code",
   "execution_count": 29,
   "id": "d264fd31-6ab9-40ed-8922-e273f6986526",
   "metadata": {},
   "outputs": [
    {
     "data": {
      "text/plain": [
       "{1, 2, 'first'}"
      ]
     },
     "execution_count": 29,
     "metadata": {},
     "output_type": "execute_result"
    }
   ],
   "source": [
    "setsample={1,1,2,'first'}\n",
    "setsample"
   ]
  },
  {
   "cell_type": "code",
   "execution_count": 33,
   "id": "b061c8ff-8e8c-4f4c-8e13-3700f9d75fc9",
   "metadata": {},
   "outputs": [
    {
     "name": "stdout",
     "output_type": "stream",
     "text": [
      "1\n",
      "6\n",
      "11\n",
      "16\n",
      "21\n",
      "26\n"
     ]
    }
   ],
   "source": [
    "rangesample=range(1,30,5)\n",
    "rangesample\n",
    "for x in rangesample:print(x)"
   ]
  },
  {
   "cell_type": "code",
   "execution_count": 37,
   "id": "e0a3a4b1-1f46-4ef1-992c-389ff2af3ed0",
   "metadata": {},
   "outputs": [
    {
     "name": "stdout",
     "output_type": "stream",
     "text": [
      "1\n",
      "2\n",
      "3\n",
      "4\n"
     ]
    }
   ],
   "source": [
    "from array import*\n",
    "arrsample=array('i',[1,2,3,4])\n",
    "for x in arrsample:print(x)"
   ]
  },
  {
   "cell_type": "raw",
   "id": "ab895221-43a9-4043-b272-806888e66afd",
   "metadata": {},
   "source": [
    "Sequence data Indexing"
   ]
  },
  {
   "cell_type": "code",
   "execution_count": 39,
   "id": "4ff2d462-c167-4488-a319-0c9fe2fd1e47",
   "metadata": {},
   "outputs": [],
   "source": [
    "StrSample='Learning'"
   ]
  },
  {
   "cell_type": "code",
   "execution_count": 47,
   "id": "c09b3be5-1f66-4025-9605-869da147fda8",
   "metadata": {},
   "outputs": [
    {
     "data": {
      "text/plain": [
       "1"
      ]
     },
     "execution_count": 47,
     "metadata": {},
     "output_type": "execute_result"
    }
   ],
   "source": [
    "StrSample.index('e')\n"
   ]
  },
  {
   "cell_type": "code",
   "execution_count": 51,
   "id": "1f7b1382-7f26-4f0a-b648-7d001b069a4f",
   "metadata": {},
   "outputs": [
    {
     "data": {
      "text/plain": [
       "2"
      ]
     },
     "execution_count": 51,
     "metadata": {},
     "output_type": "execute_result"
    }
   ],
   "source": [
    "StrSample.index('arn')\n"
   ]
  },
  {
   "cell_type": "code",
   "execution_count": 53,
   "id": "632278f0-a206-40be-a42f-a2bd41a5e544",
   "metadata": {},
   "outputs": [
    {
     "data": {
      "text/plain": [
       "'g'"
      ]
     },
     "execution_count": 53,
     "metadata": {},
     "output_type": "execute_result"
    }
   ],
   "source": [
    "StrSample[-1]\n"
   ]
  },
  {
   "cell_type": "code",
   "execution_count": 55,
   "id": "434f1433-a490-4809-b72c-c7d22c5d060b",
   "metadata": {},
   "outputs": [
    {
     "data": {
      "text/plain": [
       "'i'"
      ]
     },
     "execution_count": 55,
     "metadata": {},
     "output_type": "execute_result"
    }
   ],
   "source": [
    "StrSample[-3]\n"
   ]
  },
  {
   "cell_type": "code",
   "execution_count": 57,
   "id": "fdc1439a-cfe8-43a0-be2b-b06a327b5835",
   "metadata": {},
   "outputs": [
    {
     "data": {
      "text/plain": [
       "'a'"
      ]
     },
     "execution_count": 57,
     "metadata": {},
     "output_type": "execute_result"
    }
   ],
   "source": [
    "StrSample[2]"
   ]
  },
  {
   "cell_type": "code",
   "execution_count": 59,
   "id": "cf79184e-5c49-402c-be81-e16ae97e083a",
   "metadata": {},
   "outputs": [],
   "source": [
    "lstSample = [1,2,'a','sam',2]"
   ]
  },
  {
   "cell_type": "code",
   "execution_count": 63,
   "id": "530e4481-d148-4ffd-9559-f02b2a02a324",
   "metadata": {},
   "outputs": [
    {
     "data": {
      "text/plain": [
       "1"
      ]
     },
     "execution_count": 63,
     "metadata": {},
     "output_type": "execute_result"
    }
   ],
   "source": [
    "lstSample.index(2)"
   ]
  },
  {
   "cell_type": "code",
   "execution_count": 65,
   "id": "e49a165b-9618-4275-8c84-511649eca5f3",
   "metadata": {},
   "outputs": [
    {
     "data": {
      "text/plain": [
       "2"
      ]
     },
     "execution_count": 65,
     "metadata": {},
     "output_type": "execute_result"
    }
   ],
   "source": [
    "lstSample[4]"
   ]
  },
  {
   "cell_type": "markdown",
   "id": "28e78267-fd16-4b8a-b523-c3e7650e6506",
   "metadata": {},
   "source": [
    "Set does not support indexing\n",
    "Dictionary index are not accessed by values"
   ]
  },
  {
   "cell_type": "markdown",
   "id": "467cb9a7-091d-4611-a6d1-c4a6791f735c",
   "metadata": {},
   "source": [
    "The slice() constructor creates a slice object representing the set of indices\n",
    "specified by range(start, stop, step)\n",
    "Syntax: slice(stop), slice(start, stop, step) \n",
    "If a single parameter is passed, start and step are set to None\n",
    "\n",
    "Set "
   ]
  },
  {
   "cell_type": "code",
   "execution_count": 69,
   "id": "8d1a08c5-215b-42ab-9e40-7b9c6ed078fe",
   "metadata": {},
   "outputs": [
    {
     "data": {
      "text/plain": [
       "'a'"
      ]
     },
     "execution_count": 69,
     "metadata": {},
     "output_type": "execute_result"
    }
   ],
   "source": [
    "StrSample[2:3]"
   ]
  },
  {
   "cell_type": "code",
   "execution_count": 71,
   "id": "e46dc018-ce4e-4689-847d-a5dbc80c193c",
   "metadata": {},
   "outputs": [
    {
     "data": {
      "text/plain": [
       "'Lear'"
      ]
     },
     "execution_count": 71,
     "metadata": {},
     "output_type": "execute_result"
    }
   ],
   "source": [
    "StrSample[:4]"
   ]
  },
  {
   "cell_type": "code",
   "execution_count": 73,
   "id": "849828d7-280a-4206-9f0d-524db29be0dc",
   "metadata": {},
   "outputs": [
    {
     "data": {
      "text/plain": [
       "'Ln'"
      ]
     },
     "execution_count": 73,
     "metadata": {},
     "output_type": "execute_result"
    }
   ],
   "source": [
    "StrSample[::4]"
   ]
  },
  {
   "cell_type": "code",
   "execution_count": 75,
   "id": "2a304962-3c87-4f18-a852-cf530fdb03d1",
   "metadata": {},
   "outputs": [
    {
     "data": {
      "text/plain": [
       "'gninraeL'"
      ]
     },
     "execution_count": 75,
     "metadata": {},
     "output_type": "execute_result"
    }
   ],
   "source": [
    "StrSample[::-1]"
   ]
  },
  {
   "cell_type": "code",
   "execution_count": null,
   "id": "d1be62de-ef50-4992-8e56-7a7c60e02d18",
   "metadata": {},
   "outputs": [],
   "source": []
  }
 ],
 "metadata": {
  "kernelspec": {
   "display_name": "Python [conda env:base] *",
   "language": "python",
   "name": "conda-base-py"
  },
  "language_info": {
   "codemirror_mode": {
    "name": "ipython",
    "version": 3
   },
   "file_extension": ".py",
   "mimetype": "text/x-python",
   "name": "python",
   "nbconvert_exporter": "python",
   "pygments_lexer": "ipython3",
   "version": "3.12.7"
  }
 },
 "nbformat": 4,
 "nbformat_minor": 5
}
