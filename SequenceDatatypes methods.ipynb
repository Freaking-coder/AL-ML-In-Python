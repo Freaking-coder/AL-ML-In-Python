{
 "cells": [
  {
   "cell_type": "raw",
   "id": "df7a9d57-9ea9-40c4-929d-6deb88338023",
   "metadata": {},
   "source": [
    "General Sequence DataType operation"
   ]
  },
  {
   "cell_type": "code",
   "execution_count": 1,
   "id": "03b3d98e-18ac-4425-8538-1c8852606cf8",
   "metadata": {},
   "outputs": [
    {
     "name": "stdout",
     "output_type": "stream",
     "text": [
      "World is a race !\n"
     ]
    }
   ],
   "source": [
    "strSample = 'World is a race !'\n",
    "print(strSample)"
   ]
  },
  {
   "cell_type": "code",
   "execution_count": 3,
   "id": "22110a28-6a53-4fa9-8e6f-4596372a7b2a",
   "metadata": {},
   "outputs": [
    {
     "data": {
      "text/plain": [
       "'World is a race !'"
      ]
     },
     "execution_count": 3,
     "metadata": {},
     "output_type": "execute_result"
    }
   ],
   "source": [
    "strSample.capitalize( ) # returns the string with its first character capitalized and the rest lowercased"
   ]
  },
  {
   "cell_type": "code",
   "execution_count": 5,
   "id": "5561d6b6-a8f5-4148-823f-56eef5a4a964",
   "metadata": {},
   "outputs": [
    {
     "data": {
      "text/plain": [
       "'World Is A Race !'"
      ]
     },
     "execution_count": 5,
     "metadata": {},
     "output_type": "execute_result"
    }
   ],
   "source": [
    "strSample.title() # to capitalise the first character of each word"
   ]
  },
  {
   "cell_type": "code",
   "execution_count": 7,
   "id": "88c897e2-1589-4def-9a70-3d8d6cb7fcb4",
   "metadata": {},
   "outputs": [
    {
     "data": {
      "text/plain": [
       "'wORLD IS A RACE !'"
      ]
     },
     "execution_count": 7,
     "metadata": {},
     "output_type": "execute_result"
    }
   ],
   "source": [
    "strSample.swapcase() # to swap the case of strings "
   ]
  },
  {
   "cell_type": "code",
   "execution_count": 11,
   "id": "9b354a32-a605-4f3b-8600-c21c730cb903",
   "metadata": {},
   "outputs": [
    {
     "data": {
      "text/plain": [
       "-1"
      ]
     },
     "execution_count": 11,
     "metadata": {},
     "output_type": "execute_result"
    }
   ],
   "source": [
    "strSample.find('n') # to find the index of the given letter"
   ]
  },
  {
   "cell_type": "code",
   "execution_count": 13,
   "id": "a0b706e1-ec88-4484-a6de-2d77814478b7",
   "metadata": {},
   "outputs": [
    {
     "data": {
      "text/plain": [
       "2"
      ]
     },
     "execution_count": 13,
     "metadata": {},
     "output_type": "execute_result"
    }
   ],
   "source": [
    "strSample.count('a') # to count total number of 'a' in the string\n"
   ]
  },
  {
   "cell_type": "code",
   "execution_count": 15,
   "id": "8adab0f0-b12a-42a2-a7ed-98e8013ff5b6",
   "metadata": {},
   "outputs": [
    {
     "data": {
      "text/plain": [
       "'World is a stage !'"
      ]
     },
     "execution_count": 15,
     "metadata": {},
     "output_type": "execute_result"
    }
   ],
   "source": [
    "strSample.replace('race','stage') # to repace the letters/wor"
   ]
  },
  {
   "cell_type": "code",
   "execution_count": 17,
   "id": "2523610b-df97-4665-8af0-bc4d4557d38c",
   "metadata": {},
   "outputs": [
    {
     "data": {
      "text/plain": [
       "False"
      ]
     },
     "execution_count": 17,
     "metadata": {},
     "output_type": "execute_result"
    }
   ],
   "source": [
    "strSample.isalnum() # Return true if all bytes in the sequence are \n",
    " # alphabetical ASCII characters or ASCII decimal digits, \n",
    "# false otherwise "
   ]
  },
  {
   "cell_type": "code",
   "execution_count": 19,
   "id": "eaabc47f-4f4c-49cb-a53f-a3cc00e5855f",
   "metadata": {},
   "outputs": [],
   "source": [
    "name1 = 'GITAA'\n",
    "name2 = 'Pvt'\n",
    "name3 = 'Ltd'"
   ]
  },
  {
   "cell_type": "code",
   "execution_count": 21,
   "id": "75ee01c9-dc8f-4625-b23a-7fffaa0c6681",
   "metadata": {},
   "outputs": [
    {
     "name": "stdout",
     "output_type": "stream",
     "text": [
      "GITAA Pvt. Ltd.\n"
     ]
    }
   ],
   "source": [
    "name='{} {}. {}.'.format(name1,name2,name3)\n",
    "print(name)"
   ]
  },
  {
   "cell_type": "code",
   "execution_count": 25,
   "id": "e4e73073-4b13-4a60-93f2-05b6e77286a4",
   "metadata": {},
   "outputs": [
    {
     "name": "stdout",
     "output_type": "stream",
     "text": [
      "['__add__', '__class__', '__contains__', '__delattr__', '__dir__', '__doc__', '__eq__', '__format__', '__ge__', '__getattribute__', '__getitem__', '__getnewargs__', '__getstate__', '__gt__', '__hash__', '__init__', '__init_subclass__', '__iter__', '__le__', '__len__', '__lt__', '__mod__', '__mul__', '__ne__', '__new__', '__reduce__', '__reduce_ex__', '__repr__', '__rmod__', '__rmul__', '__setattr__', '__sizeof__', '__str__', '__subclasshook__', 'capitalize', 'casefold', 'center', 'count', 'encode', 'endswith', 'expandtabs', 'find', 'format', 'format_map', 'index', 'isalnum', 'isalpha', 'isascii', 'isdecimal', 'isdigit', 'isidentifier', 'islower', 'isnumeric', 'isprintable', 'isspace', 'istitle', 'isupper', 'join', 'ljust', 'lower', 'lstrip', 'maketrans', 'partition', 'removeprefix', 'removesuffix', 'replace', 'rfind', 'rindex', 'rjust', 'rpartition', 'rsplit', 'rstrip', 'split', 'splitlines', 'startswith', 'strip', 'swapcase', 'title', 'translate', 'upper', 'zfill']\n"
     ]
    }
   ],
   "source": [
    "print(dir(name)) #Shows the particular directory we are"
   ]
  },
  {
   "cell_type": "raw",
   "id": "d4dd2a48-6327-42e6-a842-c27517610c12",
   "metadata": {},
   "source": [
    "**Sequence datatype object initializations**"
   ]
  },
  {
   "cell_type": "code",
   "execution_count": 27,
   "id": "45773d72-8e0b-4509-a513-9160e3d40e0b",
   "metadata": {},
   "outputs": [],
   "source": [
    "strSample = 'learning is fun !' # STRING\n",
    "lstSample = [1,2,'a','sam',2] # list\n",
    "from array import *\n",
    "arrSample = array('i',[1,2,3,4]) # array\n",
    "tupSample = (1,2,3,4,3,'py') # tuple \n",
    "dictSample= {1:'first', 'second':2, 3:3, 'four':'4'} # dictionary\n"
   ]
  },
  {
   "cell_type": "raw",
   "id": "48dff6f5-fc30-4b92-a048-fb1cd1258f7b",
   "metadata": {},
   "source": [
    "len(object) returns number of elements in the object\n",
    "accepted object types: string, list, array, tuple, dictionary, set, range"
   ]
  },
  {
   "cell_type": "code",
   "execution_count": 33,
   "id": "1c031e8e-89f0-479e-9c1b-e410036ae23e",
   "metadata": {},
   "outputs": [
    {
     "name": "stdout",
     "output_type": "stream",
     "text": [
      "No. of elements in the object :\n",
      "string = 17 , list= 5, array= 4, tuple = 6, dictionary =4\n"
     ]
    }
   ],
   "source": [
    "print(\"No. of elements in the object :\")\n",
    "print(\"string = {} , list= {}, array= {}, tuple = {},\\\n",
    " dictionary ={}\".format(len(strSample), len(lstSample),\n",
    " len(arrSample) , len(tupSample), len(dictSample)))\n"
   ]
  },
  {
   "cell_type": "code",
   "execution_count": 35,
   "id": "3e662a40-2e2e-46bd-aa96-a0ff058004fa",
   "metadata": {},
   "outputs": [
    {
     "name": "stdout",
     "output_type": "stream",
     "text": [
      "[2, 'sam', 'a', 2, 1]\n"
     ]
    }
   ],
   "source": [
    "lstSample.reverse() # Reverses the order of the list\n",
    "print(lstSample)"
   ]
  },
  {
   "cell_type": "raw",
   "id": "9d9bd312-f730-473e-9ae8-097b2241779f",
   "metadata": {},
   "source": [
    "The clear() method removes all items from the object\n",
    "Supported sequence data: list, dictionary, set"
   ]
  },
  {
   "cell_type": "code",
   "execution_count": 39,
   "id": "09c1b958-43b6-4754-aa70-e557c752f74b",
   "metadata": {},
   "outputs": [
    {
     "name": "stdout",
     "output_type": "stream",
     "text": [
      "[]\n",
      "{}\n"
     ]
    }
   ],
   "source": [
    "lstSample.clear()\n",
    "print(lstSample)\n",
    "dictSample.clear()\n",
    "print(dictSample)"
   ]
  },
  {
   "cell_type": "raw",
   "id": "7ba7d955-ee28-4403-8d4b-d6b50fdb6141",
   "metadata": {},
   "source": [
    "append() Adds an element at the end of the object\n",
    "Supported datatypes: array, list, set"
   ]
  },
  {
   "cell_type": "code",
   "execution_count": 41,
   "id": "284b9d19-66e6-4425-8fdb-c8dce77dd432",
   "metadata": {},
   "outputs": [
    {
     "name": "stdout",
     "output_type": "stream",
     "text": [
      "array('i', [1, 2, 3, 4, 3])\n"
     ]
    }
   ],
   "source": [
    "arrSample.append(3) # adding an element, 3 to the 'arrSample'\n",
    "print(arrSample) # updated array, arrSample "
   ]
  },
  {
   "cell_type": "code",
   "execution_count": 45,
   "id": "87f8f5cf-a536-4aa8-9271-d40e0550cb69",
   "metadata": {},
   "outputs": [
    {
     "name": "stdout",
     "output_type": "stream",
     "text": [
      "[[2, 4], [2, 4]]\n"
     ]
    }
   ],
   "source": [
    "lstSample.append([2,4]) # adding [2, 4] list to lstSample\n",
    "print(lstSample) # updated list \n"
   ]
  },
  {
   "cell_type": "markdown",
   "id": "142ad2df-961f-485c-b7a9-21c0699c5f0d",
   "metadata": {},
   "source": [
    "#setSample.append(20) # AttributeError: 'set' object has no attribute 'append'\n",
    "setSample.add(20) # add() takes single parameter(element) which needs to \n",
    "print(setSample) "
   ]
  },
  {
   "cell_type": "code",
   "execution_count": 52,
   "id": "05f901d8-6604-4c56-821f-7477602c4f3a",
   "metadata": {},
   "outputs": [
    {
     "ename": "NameError",
     "evalue": "name 'setSample' is not defined",
     "output_type": "error",
     "traceback": [
      "\u001b[1;31m---------------------------------------------------------------------------\u001b[0m",
      "\u001b[1;31mNameError\u001b[0m                                 Traceback (most recent call last)",
      "Cell \u001b[1;32mIn[52], line 1\u001b[0m\n\u001b[1;32m----> 1\u001b[0m setSample\u001b[38;5;241m.\u001b[39mupdate([\u001b[38;5;241m5\u001b[39m,\u001b[38;5;241m10\u001b[39m]) \u001b[38;5;66;03m# adding a list of elements to the set \u001b[39;00m\n\u001b[0;32m      2\u001b[0m \u001b[38;5;28mprint\u001b[39m(setSample)\n",
      "\u001b[1;31mNameError\u001b[0m: name 'setSample' is not defined"
     ]
    }
   ],
   "source": [
    "setSample.update([5,10]) # adding a list of elements to the set \n",
    "print(setSample) # updated set\n"
   ]
  },
  {
   "cell_type": "markdown",
   "id": "90d547c2-bb91-4ba3-975a-9625fdfbad07",
   "metadata": {},
   "source": [
    "list(dictSample) # returns a list of all the keys used in the dictionary dictSample\n",
    "len(dictSample) # returns the number of items in the dictionary\n",
    "dictSample.get(\"five\") # it is a conventional method to access a value for a key\n",
    "dictSample.keys() # returns list of keys in dictionary\n",
    "dictSample.items()"
   ]
  },
  {
   "cell_type": "markdown",
   "id": "7425aa63-f2a1-47e3-a799-882e418fd8f0",
   "metadata": {},
   "source": [
    "insert()- inserts the element at the specified index of the object\n",
    "- supported datatypes: array, list"
   ]
  },
  {
   "cell_type": "code",
   "execution_count": 56,
   "id": "5e7986db-f5c6-418b-98c3-6ca7a46e83fb",
   "metadata": {},
   "outputs": [
    {
     "name": "stdout",
     "output_type": "stream",
     "text": [
      "array('i', [1, 2, 3, 4, 3])\n",
      "array('i', [1, 100, 2, 3, 4, 3])\n",
      "[[2, 4], [2, 4], 24]\n"
     ]
    }
   ],
   "source": [
    "print(arrSample)\n",
    "arrSample.insert(1,100) # inserting the element 100 at 2nd position\n",
    "print(arrSample) # printing array\n",
    "lstSample.insert(5,24) # inserting the element 24 at 5th position\n",
    "print(lstSample)"
   ]
  },
  {
   "cell_type": "code",
   "execution_count": null,
   "id": "89009477-525f-4c28-91c3-0be0c4d44342",
   "metadata": {},
   "outputs": [],
   "source": []
  }
 ],
 "metadata": {
  "kernelspec": {
   "display_name": "Python [conda env:base] *",
   "language": "python",
   "name": "conda-base-py"
  },
  "language_info": {
   "codemirror_mode": {
    "name": "ipython",
    "version": 3
   },
   "file_extension": ".py",
   "mimetype": "text/x-python",
   "name": "python",
   "nbconvert_exporter": "python",
   "pygments_lexer": "ipython3",
   "version": "3.12.7"
  }
 },
 "nbformat": 4,
 "nbformat_minor": 5
}
