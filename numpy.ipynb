{
 "cells": [
  {
   "cell_type": "code",
   "execution_count": 3,
   "id": "07f70169-fc53-45af-84d9-f6faf4916a3c",
   "metadata": {},
   "outputs": [],
   "source": [
    "import numpy as np"
   ]
  },
  {
   "cell_type": "code",
   "execution_count": 5,
   "id": "895b7790-2cd4-43e0-b5ff-9069f9cb1087",
   "metadata": {},
   "outputs": [
    {
     "data": {
      "text/plain": [
       "[1, 2, 3, 4]"
      ]
     },
     "execution_count": 5,
     "metadata": {},
     "output_type": "execute_result"
    }
   ],
   "source": [
    "my_list=[1,2,3,4]\n",
    "my_list"
   ]
  },
  {
   "cell_type": "code",
   "execution_count": 7,
   "id": "f8307c65-d765-45d4-b64b-0c1779a71cd2",
   "metadata": {},
   "outputs": [
    {
     "data": {
      "text/plain": [
       "array([1, 2, 3, 4])"
      ]
     },
     "execution_count": 7,
     "metadata": {},
     "output_type": "execute_result"
    }
   ],
   "source": [
    "array=np.array(my_list,dtype=int)\n",
    "array"
   ]
  },
  {
   "cell_type": "code",
   "execution_count": 9,
   "id": "730efb02-1b0f-4281-9a70-a81f401ad056",
   "metadata": {},
   "outputs": [
    {
     "name": "stdout",
     "output_type": "stream",
     "text": [
      "<class 'numpy.ndarray'>\n",
      "4\n",
      "1\n",
      "(4,)\n"
     ]
    }
   ],
   "source": [
    "print(type(array)) #Describes the type\n",
    "print(len(array)) #Count the elements\n",
    "print(array.ndim) #GIves the dimension\n",
    "print(array.shape) #describes the shape"
   ]
  },
  {
   "cell_type": "code",
   "execution_count": 15,
   "id": "eaa3fb09-8b26-4d49-960c-d80be29bea3e",
   "metadata": {},
   "outputs": [
    {
     "name": "stdout",
     "output_type": "stream",
     "text": [
      "[[1 2]\n",
      " [3 4]]\n"
     ]
    },
    {
     "data": {
      "text/plain": [
       "(2, 2)"
      ]
     },
     "execution_count": 15,
     "metadata": {},
     "output_type": "execute_result"
    }
   ],
   "source": [
    "rearray=array.reshape(2,2) #Used to reshape the desired array\n",
    "print(rearray)\n",
    "rearray.shape"
   ]
  },
  {
   "cell_type": "code",
   "execution_count": 19,
   "id": "d61a220d-a0f4-4f3a-99b0-1d7d26ead5cb",
   "metadata": {},
   "outputs": [
    {
     "name": "stdout",
     "output_type": "stream",
     "text": [
      "[[1 2 3 4 5]\n",
      " [4 4 6 7 8]\n",
      " [6 7 8 9 0]]\n"
     ]
    }
   ],
   "source": [
    "list=[1,2,3,4,5]\n",
    "list1=[4,4,6,7,8]\n",
    "list2=[6,7,8,9,0]\n",
    "com_array=np.array([list,list1,list2])\n",
    "print(com_array)"
   ]
  },
  {
   "cell_type": "code",
   "execution_count": 21,
   "id": "c51f85a6-826c-4c9b-b350-ebc27d4539b4",
   "metadata": {},
   "outputs": [
    {
     "data": {
      "text/plain": [
       "(3, 5)"
      ]
     },
     "execution_count": 21,
     "metadata": {},
     "output_type": "execute_result"
    }
   ],
   "source": [
    "com_array.shape"
   ]
  },
  {
   "cell_type": "code",
   "execution_count": 23,
   "id": "3fb86158-754a-47ef-9c41-ef3377d6ab71",
   "metadata": {},
   "outputs": [
    {
     "data": {
      "text/plain": [
       "array([[1, 2, 3, 4, 5, 4, 4, 6, 7, 8, 6, 7, 8, 9, 0]])"
      ]
     },
     "execution_count": 23,
     "metadata": {},
     "output_type": "execute_result"
    }
   ],
   "source": [
    "com_array.reshape(1,15)"
   ]
  },
  {
   "cell_type": "raw",
   "id": "e424f318-9356-4b9a-beb4-9b52c71c00fe",
   "metadata": {},
   "source": [
    "NUMPY ARITHMETIC OPERATIONS"
   ]
  },
  {
   "cell_type": "code",
   "execution_count": 25,
   "id": "13a703aa-e83e-45eb-9794-abaa7a308739",
   "metadata": {},
   "outputs": [],
   "source": [
    "a=np.array([1,2,3],dtype=int)\n",
    "b=np.array([3,4,5],dtype=int)"
   ]
  },
  {
   "cell_type": "code",
   "execution_count": 27,
   "id": "222dd4e6-0645-4a48-9057-e6ccdaa05db6",
   "metadata": {},
   "outputs": [
    {
     "name": "stdout",
     "output_type": "stream",
     "text": [
      "[1 2 3]\n",
      "[3 4 5]\n"
     ]
    }
   ],
   "source": [
    "print(a)\n",
    "print(b)"
   ]
  },
  {
   "cell_type": "code",
   "execution_count": 31,
   "id": "3c5451fd-10bb-43e0-889b-d962d639e7f8",
   "metadata": {},
   "outputs": [
    {
     "name": "stdout",
     "output_type": "stream",
     "text": [
      "[4 6 8]\n"
     ]
    }
   ],
   "source": [
    "Sum=np.add(a,b)\n",
    "print(Sum)"
   ]
  },
  {
   "cell_type": "code",
   "execution_count": 37,
   "id": "ee4ca584-8f14-45d6-8054-46b712a817a3",
   "metadata": {},
   "outputs": [
    {
     "name": "stdout",
     "output_type": "stream",
     "text": [
      "[-2 -2 -2]\n"
     ]
    }
   ],
   "source": [
    "Diff=np.subtract(a,b)\n",
    "print(Diff)"
   ]
  },
  {
   "cell_type": "code",
   "execution_count": 39,
   "id": "5071ed56-ab2a-44fe-8732-d2fd1e1e1c8c",
   "metadata": {},
   "outputs": [
    {
     "name": "stdout",
     "output_type": "stream",
     "text": [
      "[2 2 2]\n"
     ]
    }
   ],
   "source": [
    "Diff=np.subtract(b,a)\n",
    "print(Diff)"
   ]
  },
  {
   "cell_type": "code",
   "execution_count": 45,
   "id": "d0d7fc99-7645-4135-9149-73c99559eb7f",
   "metadata": {},
   "outputs": [
    {
     "name": "stdout",
     "output_type": "stream",
     "text": [
      "[ 3  8 15]\n",
      "[0.33333333 0.5        0.6       ]\n",
      "26\n"
     ]
    }
   ],
   "source": [
    "Mul=np.multiply(a,b)\n",
    "print(Mul)\n",
    "Quotient=np.divide(a,b)\n",
    "print(Quotient)\n",
    "Dot=np.dot(a,b)\n",
    "print(Dot)"
   ]
  },
  {
   "cell_type": "code",
   "execution_count": null,
   "id": "7e449200-a471-4218-8659-4de50e813055",
   "metadata": {},
   "outputs": [],
   "source": []
  }
 ],
 "metadata": {
  "kernelspec": {
   "display_name": "Python [conda env:base] *",
   "language": "python",
   "name": "conda-base-py"
  },
  "language_info": {
   "codemirror_mode": {
    "name": "ipython",
    "version": 3
   },
   "file_extension": ".py",
   "mimetype": "text/x-python",
   "name": "python",
   "nbconvert_exporter": "python",
   "pygments_lexer": "ipython3",
   "version": "3.12.7"
  }
 },
 "nbformat": 4,
 "nbformat_minor": 5
}
